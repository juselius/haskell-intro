{
 "metadata": {
  "language": "haskell",
  "name": ""
 },
 "nbformat": 3,
 "nbformat_minor": 0,
 "worksheets": [
  {
   "cells": [
    {
     "cell_type": "markdown",
     "metadata": {
      "hidden": false
     },
     "source": [
      "# Lesson 4\n",
      "\n",
      "* So far Haskell has looked more or less like a dynamically typed language:\n",
      "    * We have relied heavily on Haskell's _type inference_ engine\n",
      "* Haskell is statically typed\n",
      "* Haskell has a very rich type system:\n",
      "    * Type level programming\n",
      "    * Generalized algebraic types\n",
      "    * Dependent types\n",
      "    * ...\n",
      "\n",
      "## Types\n",
      "\n",
      "* Every entity in Haskell has a type\n",
      "* Types can be specified explicitly using the ``::`` type operator (\"_has type of_\")\n",
      "* Explicit type annotations are sometimes necessary, when the type inference is ambiguous\n",
      "* Often type annotations are more important as guides for the reader\n",
      "* **NB!** It takes time and effort to get used to reading and understanding types"
     ]
    },
    {
     "cell_type": "code",
     "collapsed": false,
     "input": [
      ":option no-lint"
     ],
     "language": "python",
     "metadata": {
      "hidden": false
     },
     "outputs": []
    },
    {
     "cell_type": "code",
     "collapsed": false,
     "input": [
      ":t 'a'"
     ],
     "language": "python",
     "metadata": {},
     "outputs": []
    },
    {
     "cell_type": "code",
     "collapsed": false,
     "input": [
      ":t True"
     ],
     "language": "python",
     "metadata": {},
     "outputs": []
    },
    {
     "cell_type": "code",
     "collapsed": false,
     "input": [
      ":t \"Hello\""
     ],
     "language": "python",
     "metadata": {},
     "outputs": []
    },
    {
     "cell_type": "code",
     "collapsed": false,
     "input": [
      ":t ('a', True)"
     ],
     "language": "python",
     "metadata": {},
     "outputs": []
    },
    {
     "cell_type": "code",
     "collapsed": false,
     "input": [
      ":t [True,False,True]"
     ],
     "language": "python",
     "metadata": {},
     "outputs": []
    },
    {
     "cell_type": "markdown",
     "metadata": {
      "hidden": false
     },
     "source": [
      "#### Inlined type specifiers"
     ]
    },
    {
     "cell_type": "code",
     "collapsed": false,
     "input": [
      "a = 1 :: Integer\n",
      "b = (1 :: Float) + 2.0 :: Float"
     ],
     "language": "python",
     "metadata": {},
     "outputs": []
    },
    {
     "cell_type": "markdown",
     "metadata": {
      "hidden": false
     },
     "source": [
      "### Functions"
     ]
    },
    {
     "cell_type": "code",
     "collapsed": false,
     "input": [
      "f :: Int -> Double\n",
      "f x = 2 * x"
     ],
     "language": "python",
     "metadata": {},
     "outputs": []
    },
    {
     "cell_type": "code",
     "collapsed": false,
     "input": [
      "f :: Int -> Double\n",
      "f x = 2 * fromIntegral x"
     ],
     "language": "python",
     "metadata": {},
     "outputs": []
    },
    {
     "cell_type": "code",
     "collapsed": false,
     "input": [
      "g :: Char -> Char -> String\n",
      "g a b = [a,b]"
     ],
     "language": "python",
     "metadata": {},
     "outputs": []
    },
    {
     "cell_type": "markdown",
     "metadata": {
      "hidden": false
     },
     "source": [
      "#### Generic functions\n",
      "* Type variables\n",
      "* Determined at compile time"
     ]
    },
    {
     "cell_type": "code",
     "collapsed": false,
     "input": [
      "h :: [a] -> a\n",
      "h (x:xs) = x"
     ],
     "language": "python",
     "metadata": {},
     "outputs": []
    },
    {
     "cell_type": "markdown",
     "metadata": {
      "hidden": false
     },
     "source": [
      "## Abstract data types\n",
      "\n",
      "* So far we have only used predefined types\n",
      "* Haskell's type system is rich and powerful, and we will only scratch the surface\n",
      "* Haskell allows us to define our own types using the ``data`` keyword\n",
      "    * The ``data`` keyword defines *type constructors*\n",
      "    * Every type can have zero or more *value (data) constructors* associated with it \n",
      "    * A *data (value) constructor* is a function which generates an *instance* of a *type*\n",
      "    * Type and data constructors are *always* capitalized"
     ]
    },
    {
     "cell_type": "markdown",
     "metadata": {
      "hidden": false
     },
     "source": [
      "#### Single-valued types"
     ]
    },
    {
     "cell_type": "code",
     "collapsed": false,
     "input": [
      "data Singleton  = Singleton \n",
      "data Simpleton  = Simpleton Int\n",
      "data FunnyShape = NamedPoint String Int Int\n",
      "\n",
      ":t Singleton\n",
      ":t Simpleton\n",
      ":t NamedPoint"
     ],
     "language": "python",
     "metadata": {
      "hidden": false
     },
     "outputs": []
    },
    {
     "cell_type": "code",
     "collapsed": false,
     "input": [
      "f :: Int -> Simpleton\n",
      "f x = Simpleton (x + 1)\n",
      "\n",
      "g :: Simpleton -> Int\n",
      "g (Simpleton x) = x\n",
      "\n",
      "g (f 1)"
     ],
     "language": "python",
     "metadata": {
      "hidden": false
     },
     "outputs": []
    },
    {
     "cell_type": "markdown",
     "metadata": {
      "hidden": false
     },
     "source": [
      "#### Multi-valued types"
     ]
    },
    {
     "cell_type": "code",
     "collapsed": false,
     "input": [
      "data Shape = Point Float Float | Rect Float Float Float Float | Circle Float Float Float\n",
      "\n",
      "f :: Shape -> String\n",
      "f (Point a b) = \"Point at \" ++ show a ++ \", \" ++ show b\n",
      "f (Rect _ _ _ _) = \"Rectangle\"\n",
      "f (Circle _ _ r ) = \"Circle, r = \" ++ show r\n",
      "\n",
      "f (Point 0.0 0.0) \n",
      "f (Circle 1.0 2.0 3.0)\n"
     ],
     "language": "python",
     "metadata": {
      "hidden": false
     },
     "outputs": []
    },
    {
     "cell_type": "markdown",
     "metadata": {
      "hidden": false
     },
     "source": [
      "### Type parameters\n",
      "* Type parameters allow us to define types with \"type holes\" in them\n",
      "* A *parametrized type* becomes a *concrete type* when the \"hole\" is replaced with another concrete type\n",
      "* Parametrized data types are somewhat similar to C++ templates or Java/C# generics"
     ]
    },
    {
     "cell_type": "code",
     "collapsed": false,
     "input": [
      "data Maybe a = Nothing | Just a deriving (Show)\n",
      "data Either a b = Left a | Right b deriving (Show)\n",
      "\n",
      "f :: Float -> Maybe Float\n",
      "f x = if x < 0.0 then Nothing else Just (sqrt x)\n",
      "\n",
      "f 2.0\n",
      "f (-1.0)\n",
      "\n",
      "g :: Float -> Either String Float\n",
      "g x = if x < 0.0 then Left \"Fail!\" else Right (sqrt x)\n",
      "\n",
      "g 2.0\n",
      "g (-1.0)"
     ],
     "language": "python",
     "metadata": {
      "hidden": false
     },
     "outputs": []
    },
    {
     "cell_type": "markdown",
     "metadata": {
      "hidden": false
     },
     "source": [
      "### Record syntax\n",
      "* Acessing value attributes is a hassle, forcing us to write accessor functions using pattern matching\n",
      "* Fortunately, Haskell can automate this daunting task using *record syntax*"
     ]
    },
    {
     "cell_type": "code",
     "collapsed": false,
     "input": [
      "getPointX :: Shape -> Float\n",
      "getPointX (Point x _) = x\n",
      "\n",
      "data Shape = Point {\n",
      "      posX :: Float\n",
      "    , posY :: Float  \n",
      "    } \n",
      "    | Circle {\n",
      "      posX :: Float\n",
      "    , posY :: Float\n",
      "    , radius :: Float\n",
      "    } deriving (Show)\n",
      "\n",
      "p = Point 1.0 2.0\n",
      "c = Circle 1.0 2.0 3.0\n",
      "posX p\n",
      "posY p\n",
      "\n",
      "posX c\n",
      "posY c\n",
      "radius c"
     ],
     "language": "python",
     "metadata": {
      "hidden": false
     },
     "outputs": []
    },
    {
     "cell_type": "markdown",
     "metadata": {
      "hidden": false
     },
     "source": [
      "### Record updates\n",
      "* Record syntax can also be used to \"update\" or \"change\" records (a new record is returned, and immutability is preserved!)"
     ]
    },
    {
     "cell_type": "code",
     "collapsed": false,
     "input": [
      "c = Circle 1.0 2.0 3.0\n",
      "c' = c { radius = -1.0 }\n",
      "c'"
     ],
     "language": "python",
     "metadata": {
      "hidden": false
     },
     "outputs": []
    },
    {
     "cell_type": "markdown",
     "metadata": {
      "hidden": false
     },
     "source": [
      "### Type aliases\n",
      "* ``type`` creates a type alias which can be used interchangably with the aliased type\n",
      "* ``newtype`` creates a new *type constructor`` aliasing the original type, but they cannot be used interchangably"
     ]
    },
    {
     "cell_type": "code",
     "collapsed": false,
     "input": [
      "type String = [Char]\n",
      "\n",
      "f :: String -> Int\n",
      "f = length\n",
      "\n",
      "f' :: [Char] -> Int\n",
      "f' = length\n",
      "\n",
      "f ['f', 'o', 'o']\n",
      "f' \"foo\""
     ],
     "language": "python",
     "metadata": {
      "hidden": false
     },
     "outputs": []
    },
    {
     "cell_type": "code",
     "collapsed": false,
     "input": [
      "newtype Stringy = Stringy [Char]\n",
      "\n",
      "f :: Stringy -> Int\n",
      "f (Stringy x) = length x\n",
      "\n",
      "f (Stringy \"foo\")\n",
      "f (Stringy ['f', 'o', 'o'])\n",
      "f ['f', 'o', 'o']"
     ],
     "language": "python",
     "metadata": {
      "hidden": false
     },
     "outputs": []
    },
    {
     "cell_type": "markdown",
     "metadata": {
      "hidden": false
     },
     "source": [
      "### Recursive types\n",
      "* Types can be recursive, i.e. contain themselves\n",
      "* Recursive types are e.g. used to define lists, trees, etc."
     ]
    },
    {
     "cell_type": "code",
     "collapsed": false,
     "input": [
      "data Lst a = Nil | Lst a (Lst a) \n",
      "l = Lst 1 (Lst 2 (Lst 3 Nil))"
     ],
     "language": "python",
     "metadata": {
      "hidden": false
     },
     "outputs": []
    },
    {
     "cell_type": "markdown",
     "metadata": {
      "hidden": false
     },
     "source": [
      "## Type classes"
     ]
    },
    {
     "cell_type": "markdown",
     "metadata": {
      "hidden": false
     },
     "source": [
      "* Typeclasses are interfaces for some behavior\n",
      "* Typeclasses are contracts for types\n",
      "* If a type implements a typeclass, it promises to behave accoring to the typeclass specification\n",
      "* Typeclasses allow us to overload functions and operators for types  "
     ]
    },
    {
     "cell_type": "code",
     "collapsed": false,
     "input": [
      ":t 1"
     ],
     "language": "python",
     "metadata": {},
     "outputs": []
    },
    {
     "cell_type": "code",
     "collapsed": false,
     "input": [
      ":t 1.0"
     ],
     "language": "python",
     "metadata": {},
     "outputs": []
    },
    {
     "cell_type": "code",
     "collapsed": false,
     "input": [
      ":t (==)"
     ],
     "language": "python",
     "metadata": {
      "hidden": false
     },
     "outputs": []
    },
    {
     "cell_type": "code",
     "collapsed": false,
     "input": [
      "class Hello a where\n",
      "    hello :: a -> String\n",
      "    world :: a -> String\n",
      "    world a = hello a ++ \" World!\"\n",
      "\n",
      "data Foo = Foo Int\n",
      "data Bar = Bar String\n",
      "\n",
      "instance Hello Foo where\n",
      "    hello (Foo n) = unwords (replicate n \"Hello\")\n",
      "\n",
      "instance Hello Bar where\n",
      "    hello (Bar s) = \"Hello \" ++ s ++ \", \" ++ s\n",
      "\n",
      "f :: Hello a => a -> String\n",
      "f x = world x\n",
      "\n",
      "f (Foo 5)\n",
      "f (Bar \"silly\")"
     ],
     "language": "python",
     "metadata": {
      "hidden": false
     },
     "outputs": []
    },
    {
     "cell_type": "markdown",
     "metadata": {
      "hidden": false
     },
     "source": [
      "### Derived type classes\n",
      "* Haskell can automatically implement many common type classes for us, using the ``deriving`` clause\n",
      "* Some important type classes are ``Eq, Ord, Num, Read, Functor, Monoid, Monad, Applicative``"
     ]
    },
    {
     "cell_type": "markdown",
     "metadata": {
      "hidden": false
     },
     "source": [
      "## Kinds (optional)\n",
      "* What is the type of a type? It's a *kind*!\n",
      "* Haskell has only two basic kinds:\n",
      "    * Boxed: ``*``\n",
      "    * Unboxed: ``#``\n",
      "* We can inspect the kind of a type (value constructor) in ``ghci`` using the ``:k`` command\n",
      "* Type constructors can be thought of as lambda functions in kind space "
     ]
    },
    {
     "cell_type": "code",
     "collapsed": false,
     "input": [
      "data Simple = Simple Int Float String\n",
      "data Param a b = Param a b\n",
      "\n",
      ":k Simple\n",
      ":k Param"
     ],
     "language": "python",
     "metadata": {
      "hidden": false
     },
     "outputs": []
    }
   ],
   "metadata": {}
  }
 ]
}
