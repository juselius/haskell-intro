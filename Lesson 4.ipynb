{
 "metadata": {
  "language": "haskell",
  "name": "",
  "signature": "sha256:73268899388a3451882f4b61ef7926861c5f372ba7f7259b82d5a7e25d13f813"
 },
 "nbformat": 3,
 "nbformat_minor": 0,
 "worksheets": [
  {
   "cells": [
    {
     "cell_type": "markdown",
     "metadata": {
      "hidden": false
     },
     "source": [
      "# Lesson 4\n",
      "\n",
      "* So far Haskell has looked more or less like a dynamically typed language:\n",
      "    * We have relied heavily on Haskell's _type inference_ engine\n",
      "* Haskell is statically typed\n",
      "* Haskell has a very rich type system:\n",
      "    * Type level programming\n",
      "    * Generalized algebraic types\n",
      "    * Dependent types\n",
      "    * ...\n",
      "\n",
      "## Types\n",
      "\n",
      "* Every entity in Haskell has a type\n",
      "* Types can be specified explicitly using the ``::`` type operator (\"_has type of_\")\n",
      "* Explicit type annotations are sometimes necessary, when the type inference is ambiguous\n",
      "* Often type annotations are more important as guides for the reader\n",
      "* **NB!** It takes time and effort to get used to reading and understanding types"
     ]
    },
    {
     "cell_type": "code",
     "collapsed": false,
     "input": [
      ":t 'a'"
     ],
     "language": "python",
     "metadata": {
      "hidden": false
     },
     "outputs": [
      {
       "html": [
        "<span class='get-type'>'a' :: Char</span>"
       ],
       "metadata": {},
       "output_type": "display_data",
       "text": [
        "'a' :: Char"
       ]
      }
     ],
     "prompt_number": 2
    },
    {
     "cell_type": "code",
     "collapsed": false,
     "input": [
      ":t True"
     ],
     "language": "python",
     "metadata": {
      "hidden": false
     },
     "outputs": [
      {
       "html": [
        "<span class='get-type'>True :: Bool</span>"
       ],
       "metadata": {},
       "output_type": "display_data",
       "text": [
        "True :: Bool"
       ]
      }
     ],
     "prompt_number": 5
    },
    {
     "cell_type": "code",
     "collapsed": false,
     "input": [
      ":t \"Hello\""
     ],
     "language": "python",
     "metadata": {
      "hidden": false
     },
     "outputs": [
      {
       "html": [
        "<span class='get-type'>\"Hello\" :: [Char]</span>"
       ],
       "metadata": {},
       "output_type": "display_data",
       "text": [
        "\"Hello\" :: [Char]"
       ]
      }
     ],
     "prompt_number": 7
    },
    {
     "cell_type": "code",
     "collapsed": false,
     "input": [
      ":t ('a', True)"
     ],
     "language": "python",
     "metadata": {
      "hidden": false
     },
     "outputs": [
      {
       "html": [
        "<span class='get-type'>('a', True) :: (Char, Bool)</span>"
       ],
       "metadata": {},
       "output_type": "display_data",
       "text": [
        "('a', True) :: (Char, Bool)"
       ]
      }
     ],
     "prompt_number": 10
    },
    {
     "cell_type": "code",
     "collapsed": false,
     "input": [
      ":t [True,False,True]"
     ],
     "language": "python",
     "metadata": {
      "hidden": false
     },
     "outputs": [
      {
       "html": [
        "<span class='get-type'>[True,False,True] :: [Bool]</span>"
       ],
       "metadata": {},
       "output_type": "display_data",
       "text": [
        "[True,False,True] :: [Bool]"
       ]
      }
     ],
     "prompt_number": 29
    },
    {
     "cell_type": "markdown",
     "metadata": {
      "hidden": false
     },
     "source": [
      "#### Inlined type specifiers"
     ]
    },
    {
     "cell_type": "code",
     "collapsed": false,
     "input": [
      "a = 1 :: Integer\n",
      "b = (1 :: Float) + 2.0 :: Float"
     ],
     "language": "python",
     "metadata": {
      "hidden": false
     },
     "outputs": [],
     "prompt_number": 27
    },
    {
     "cell_type": "markdown",
     "metadata": {
      "hidden": false
     },
     "source": [
      "### Functions"
     ]
    },
    {
     "cell_type": "code",
     "collapsed": false,
     "input": [
      "f :: Int -> Double\n",
      "f x = 2 * x"
     ],
     "language": "python",
     "metadata": {
      "hidden": false
     },
     "outputs": [
      {
       "html": [
        "<span class='err-msg'>Couldn't match expected type \u2018Double\u2019 with actual type \u2018Int\u2019<br/>In the second argument of \u2018(*)\u2019, namely \u2018x\u2019<br/>In the expression: 2 * x</span>"
       ],
       "metadata": {},
       "output_type": "display_data",
       "text": [
        "Couldn't match expected type \u2018Double\u2019 with actual type \u2018Int\u2019\n",
        "In the second argument of \u2018(*)\u2019, namely \u2018x\u2019\n",
        "In the expression: 2 * x"
       ]
      }
     ],
     "prompt_number": 16
    },
    {
     "cell_type": "code",
     "collapsed": false,
     "input": [
      "f :: Int -> Double\n",
      "f x = 2 * fromIntegral x"
     ],
     "language": "python",
     "metadata": {
      "hidden": false
     },
     "outputs": [],
     "prompt_number": 17
    },
    {
     "cell_type": "code",
     "collapsed": false,
     "input": [
      "g :: Char -> Char -> String\n",
      "g a b = [a,b]"
     ],
     "language": "python",
     "metadata": {
      "hidden": false
     },
     "outputs": [],
     "prompt_number": 19
    },
    {
     "cell_type": "markdown",
     "metadata": {
      "hidden": false
     },
     "source": [
      "#### Generic functions\n",
      "* Type variables\n",
      "* Determined at compile time"
     ]
    },
    {
     "cell_type": "code",
     "collapsed": false,
     "input": [
      "h :: [a] -> a\n",
      "h (x:xs) = x"
     ],
     "language": "python",
     "metadata": {
      "hidden": false
     },
     "outputs": [],
     "prompt_number": 23
    },
    {
     "cell_type": "markdown",
     "metadata": {
      "hidden": false
     },
     "source": [
      "## Type classes"
     ]
    },
    {
     "cell_type": "markdown",
     "metadata": {
      "hidden": false
     },
     "source": [
      "* Typeclasses are interfaces for some behavior\n",
      "* Typeclasses are contracts for types\n",
      "* If a type implements a typeclass, it promises to behave accoring to the typeclass specification\n",
      "* Typeclasses allow us to overload functions and operators for types  "
     ]
    },
    {
     "cell_type": "code",
     "collapsed": false,
     "input": [
      ":t 1"
     ],
     "language": "python",
     "metadata": {
      "hidden": false
     },
     "outputs": [
      {
       "html": [
        "<span class='get-type'>1 :: forall a. Num a => a</span>"
       ],
       "metadata": {},
       "output_type": "display_data",
       "text": [
        "1 :: forall a. Num a => a"
       ]
      }
     ],
     "prompt_number": 28
    },
    {
     "cell_type": "code",
     "collapsed": false,
     "input": [
      ":t 1.0"
     ],
     "language": "python",
     "metadata": {
      "hidden": false
     },
     "outputs": [
      {
       "html": [
        "<span class='get-type'>1.0 :: forall a. Fractional a => a</span>"
       ],
       "metadata": {},
       "output_type": "display_data",
       "text": [
        "1.0 :: forall a. Fractional a => a"
       ]
      }
     ],
     "prompt_number": 30
    },
    {
     "cell_type": "code",
     "collapsed": false,
     "input": [
      ":t (==)"
     ],
     "language": "python",
     "metadata": {
      "hidden": false
     },
     "outputs": [
      {
       "html": [
        "<span class='get-type'>(==) :: forall a. Eq a => a -> a -> Bool</span>"
       ],
       "metadata": {},
       "output_type": "display_data",
       "text": [
        "(==) :: forall a. Eq a => a -> a -> Bool"
       ]
      }
     ],
     "prompt_number": 31
    },
    {
     "cell_type": "markdown",
     "metadata": {
      "hidden": false
     },
     "source": [
      "## Making types"
     ]
    },
    {
     "cell_type": "code",
     "collapsed": false,
     "input": [],
     "language": "python",
     "metadata": {},
     "outputs": []
    }
   ],
   "metadata": {}
  }
 ]
}