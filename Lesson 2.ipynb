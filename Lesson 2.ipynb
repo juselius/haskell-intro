{
 "metadata": {
  "language": "haskell",
  "name": "",
  "signature": "sha256:4b97ef94a750a239dc0ffd92341fd5c04dea47424a9cbf7f4367e59e924ba544"
 },
 "nbformat": 3,
 "nbformat_minor": 0,
 "worksheets": [
  {
   "cells": [
    {
     "cell_type": "markdown",
     "metadata": {
      "hidden": false
     },
     "source": [
      "# Lesson 2\n"
     ]
    },
    {
     "cell_type": "markdown",
     "metadata": {
      "hidden": false
     },
     "source": [
      "## Lists\n",
      "* Lists are immensly imortant in Haskell\n",
      "* Lists have dynamic length\n",
      "* Lists are homogenous\n",
      "* The default lists are simple, but not very efficient\n",
      "\n",
      "### List construction\n",
      "* The list constructor is ``(:)``\n",
      "* The empty list is ``[]``"
     ]
    },
    {
     "cell_type": "code",
     "collapsed": false,
     "input": [
      ":option no-lint"
     ],
     "language": "python",
     "metadata": {
      "hidden": false
     },
     "outputs": []
    },
    {
     "cell_type": "code",
     "collapsed": false,
     "input": [
      "numbers = [1,2,75,6,7]\n",
      "numbers' = 75:6:7:[]\n",
      "letters = \"hello\"\n",
      "ranges  = [1..10]\n",
      "ranges' = [1.0,1.5..10.0]\n",
      "\n",
      "print (numbers ++ [1])\n",
      "print $ numbers ++ numbers'\n",
      "putStrLn $ letters ++ \" world\"\n",
      "putStrLn $ show [numbers, numbers']\n",
      "print $ letters !! 1\n",
      "print ranges\n",
      "print ranges'"
     ],
     "language": "python",
     "metadata": {
      "slideshow": {
       "slide_type": "-"
      }
     },
     "outputs": []
    },
    {
     "cell_type": "markdown",
     "metadata": {
      "hidden": false
     },
     "source": [
      "### List comparison"
     ]
    },
    {
     "cell_type": "code",
     "collapsed": false,
     "input": [
      "[3,2,1] > [2,1,0]\n",
      "[3,2,1] > [2,10,100]\n",
      "[3,2,1] > [3,10,100]\n",
      "[3,2,1] > [2,10]\n",
      "[3,2,1] == [2,10,100,1000]"
     ],
     "language": "python",
     "metadata": {},
     "outputs": []
    },
    {
     "cell_type": "markdown",
     "metadata": {
      "hidden": false
     },
     "source": [
      "### List functions"
     ]
    },
    {
     "cell_type": "code",
     "collapsed": false,
     "input": [
      "l = [1..10]\n",
      "head l\n",
      "tail l\n",
      "last l\n",
      "init l\n",
      "length l\n",
      "null l\n",
      "reverse l\n",
      "take 5 l\n",
      "drop 5 l\n",
      "elem 5 l\n",
      "5 `elem` l"
     ],
     "language": "python",
     "metadata": {},
     "outputs": []
    },
    {
     "cell_type": "code",
     "collapsed": false,
     "input": [
      "take 10 [1..]"
     ],
     "language": "python",
     "metadata": {},
     "outputs": []
    },
    {
     "cell_type": "markdown",
     "metadata": {
      "hidden": false
     },
     "source": [
      "### List comprehensions"
     ]
    },
    {
     "cell_type": "code",
     "collapsed": false,
     "input": [
      "l' = [x^2 | x <- [1..10]]\n",
      "l'' = [x^2 | x <- [1..10], x `mod` 2 == 0]\n",
      "l''' = [if x < 5 then x^2 else x| x <- [1..10], odd x]\n",
      "print l'\n",
      "print l''\n",
      "print l'''"
     ],
     "language": "python",
     "metadata": {},
     "outputs": []
    },
    {
     "cell_type": "code",
     "collapsed": false,
     "input": [
      "ll  = [x*y | x <- [1..10], y <- [1..10]]\n",
      "ll' = [x*y | x <- [1..10], y <- [1..10], x /= 3, x /= 7, y /= 2]\n",
      "print ll\n",
      "print ll'"
     ],
     "language": "python",
     "metadata": {},
     "outputs": []
    },
    {
     "cell_type": "code",
     "collapsed": false,
     "input": [
      "length' xs = sum [1 | _ <- xs]\n",
      "length' l"
     ],
     "language": "python",
     "metadata": {},
     "outputs": []
    },
    {
     "cell_type": "markdown",
     "metadata": {
      "hidden": false
     },
     "source": [
      "## Tuples\n",
      "\n",
      "* Tuples have static length\n",
      "* Tuples can be heterogenous\n",
      "* The tuple constructor is ``(,)`` (and pals)"
     ]
    },
    {
     "cell_type": "code",
     "collapsed": false,
     "input": [
      "tp = (1,2) \n",
      "tp' = (1,'a',\"hello\")\n",
      "fst tp\n",
      "snd tp"
     ],
     "language": "python",
     "metadata": {},
     "outputs": []
    },
    {
     "cell_type": "code",
     "collapsed": false,
     "input": [
      "zip [1,2,3] [11.1, 22.2]"
     ],
     "language": "python",
     "metadata": {},
     "outputs": []
    },
    {
     "cell_type": "code",
     "collapsed": false,
     "input": [
      "phyttipanna a = [(x,y) | x <- [1.0,2.0..(2*a)], y <- [1.0,2.0..(2*a)], sqrt (x^2 + y^2) <= a]\n",
      "phyttipanna 5.0"
     ],
     "language": "python",
     "metadata": {},
     "outputs": []
    },
    {
     "cell_type": "markdown",
     "metadata": {
      "hidden": false
     },
     "source": [
      "* Constructing tuples the \"funny\" way"
     ]
    },
    {
     "cell_type": "code",
     "collapsed": false,
     "input": [
      "(,) 1 2\n",
      "(,,) 'a' \"cat\" \"sat\"\n",
      "(,,,,) 1 2 75 6 7"
     ],
     "language": "python",
     "metadata": {},
     "outputs": []
    }
   ],
   "metadata": {}
  }
 ]
}