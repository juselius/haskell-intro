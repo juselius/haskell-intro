{
 "metadata": {
  "language": "haskell",
  "name": "",
  "signature": "sha256:736e61278813b6b50f5ce1c33b33e93c95820010dcc37e7fb8675f97acf678a9"
 },
 "nbformat": 3,
 "nbformat_minor": 0,
 "worksheets": [
  {
   "cells": [
    {
     "cell_type": "markdown",
     "metadata": {
      "hidden": false
     },
     "source": [
      "# Lesson 2\n"
     ]
    },
    {
     "cell_type": "markdown",
     "metadata": {
      "hidden": false
     },
     "source": [
      "## Lists\n",
      "* Lists are immensly imortant in Haskell\n",
      "* Lists have dynamic length\n",
      "* Lists are homogenous\n",
      "* The default lists are simple, but not very efficient\n",
      "\n",
      "### List construction\n",
      "* The list constructor is ``(:)``\n",
      "* The empty list is ``[]``"
     ]
    },
    {
     "cell_type": "code",
     "collapsed": false,
     "input": [
      "numbers = [1,2,75,6,7]\n",
      "numbers' = 75:6:7:[]\n",
      "letters = \"hello\"\n",
      "ranges  = [1..10]\n",
      "ranges' = [1.0,1.5..10.0]\n",
      "\n",
      "print (numbers ++ [1])\n",
      "print $ numbers ++ numbers'\n",
      "putStrLn $ letters ++ \" world\"\n",
      "putStrLn $ show [numbers, numbers']\n",
      "print $ letters !! 1\n",
      "print ranges\n",
      "print ranges'"
     ],
     "language": "python",
     "metadata": {
      "slideshow": {
       "slide_type": "-"
      }
     },
     "outputs": [
      {
       "html": [
        " <div class=\"suggestion-name\" style=\"clear:both;\">Use print</div>  <div class=\"suggestion-row\" style=\"float: left;\"> <div class=\"suggestion-error\">Found:</div>  <div class=\"highlight-code\" id=\"haskell\">putStrLn $ show [numbers, numbers']</div> </div>  <div class=\"suggestion-row\" style=\"float: left;\"> <div class=\"suggestion-error\">Why Not:</div>  <div class=\"highlight-code\" id=\"haskell\">print [numbers, numbers']</div> </div> "
       ],
       "metadata": {},
       "output_type": "display_data",
       "text": [
        "Line 1: Use print\n",
        "Found:\n",
        "putStrLn $ show [numbers, numbers']\n",
        "Why not:\n",
        "print [numbers, numbers']"
       ]
      },
      {
       "metadata": {},
       "output_type": "display_data",
       "text": [
        "[1,2,75,6,7,1]"
       ]
      },
      {
       "metadata": {},
       "output_type": "display_data",
       "text": [
        "[1,2,75,6,7,75,6,7]"
       ]
      },
      {
       "metadata": {},
       "output_type": "display_data",
       "text": [
        "hello world"
       ]
      },
      {
       "metadata": {},
       "output_type": "display_data",
       "text": [
        "[[1,2,75,6,7],[75,6,7]]"
       ]
      },
      {
       "metadata": {},
       "output_type": "display_data",
       "text": [
        "'e'"
       ]
      },
      {
       "metadata": {},
       "output_type": "display_data",
       "text": [
        "[1,2,3,4,5,6,7,8,9,10]"
       ]
      },
      {
       "metadata": {},
       "output_type": "display_data",
       "text": [
        "[1.0,1.5,2.0,2.5,3.0,3.5,4.0,4.5,5.0,5.5,6.0,6.5,7.0,7.5,8.0,8.5,9.0,9.5,10.0]"
       ]
      }
     ],
     "prompt_number": 1
    },
    {
     "cell_type": "markdown",
     "metadata": {
      "hidden": false
     },
     "source": [
      "### List comparison"
     ]
    },
    {
     "cell_type": "code",
     "collapsed": false,
     "input": [
      "[3,2,1] > [2,1,0]\n",
      "[3,2,1] > [2,10,100]\n",
      "[3,2,1] > [3,10,100]\n",
      "[3,2,1] > [2,10]\n",
      "[3,2,1] == [2,10,100,1000]"
     ],
     "language": "python",
     "metadata": {},
     "outputs": [
      {
       "metadata": {},
       "output_type": "display_data",
       "text": [
        "True"
       ]
      },
      {
       "metadata": {},
       "output_type": "display_data",
       "text": [
        "True"
       ]
      },
      {
       "metadata": {},
       "output_type": "display_data",
       "text": [
        "False"
       ]
      },
      {
       "metadata": {},
       "output_type": "display_data",
       "text": [
        "True"
       ]
      },
      {
       "metadata": {},
       "output_type": "display_data",
       "text": [
        "False"
       ]
      }
     ],
     "prompt_number": 2
    },
    {
     "cell_type": "markdown",
     "metadata": {
      "hidden": false
     },
     "source": [
      "### List functions"
     ]
    },
    {
     "cell_type": "code",
     "collapsed": false,
     "input": [
      "l = [1..10]\n",
      "head l\n",
      "tail l\n",
      "last l\n",
      "init l\n",
      "length l\n",
      "null l\n",
      "reverse l\n",
      "take 5 l\n",
      "drop 5 l\n",
      "elem 5 l\n",
      "5 `elem` l"
     ],
     "language": "python",
     "metadata": {},
     "outputs": [
      {
       "metadata": {},
       "output_type": "display_data",
       "text": [
        "1"
       ]
      },
      {
       "metadata": {},
       "output_type": "display_data",
       "text": [
        "[2,3,4,5,6,7,8,9,10]"
       ]
      },
      {
       "metadata": {},
       "output_type": "display_data",
       "text": [
        "10"
       ]
      },
      {
       "metadata": {},
       "output_type": "display_data",
       "text": [
        "[1,2,3,4,5,6,7,8,9]"
       ]
      },
      {
       "metadata": {},
       "output_type": "display_data",
       "text": [
        "10"
       ]
      },
      {
       "metadata": {},
       "output_type": "display_data",
       "text": [
        "False"
       ]
      },
      {
       "metadata": {},
       "output_type": "display_data",
       "text": [
        "[10,9,8,7,6,5,4,3,2,1]"
       ]
      },
      {
       "metadata": {},
       "output_type": "display_data",
       "text": [
        "[1,2,3,4,5]"
       ]
      },
      {
       "metadata": {},
       "output_type": "display_data",
       "text": [
        "[6,7,8,9,10]"
       ]
      },
      {
       "metadata": {},
       "output_type": "display_data",
       "text": [
        "True"
       ]
      },
      {
       "metadata": {},
       "output_type": "display_data",
       "text": [
        "True"
       ]
      }
     ],
     "prompt_number": 3
    },
    {
     "cell_type": "code",
     "collapsed": false,
     "input": [
      "take 10 [1..]"
     ],
     "language": "python",
     "metadata": {},
     "outputs": [
      {
       "metadata": {},
       "output_type": "display_data",
       "text": [
        "[1,2,3,4,5,6,7,8,9,10]"
       ]
      }
     ],
     "prompt_number": 4
    },
    {
     "cell_type": "markdown",
     "metadata": {
      "hidden": false
     },
     "source": [
      "### List comprehensions"
     ]
    },
    {
     "cell_type": "code",
     "collapsed": false,
     "input": [
      "l' = [x^2 | x <- [1..10]]\n",
      "l'' = [x^2 | x <- [1..10], x `mod` 2 == 0]\n",
      "l''' = [if x < 5 then x^2 else x| x <- [1..10], odd x]\n",
      "print l'\n",
      "print l''\n",
      "print l'''"
     ],
     "language": "python",
     "metadata": {},
     "outputs": [
      {
       "metadata": {},
       "output_type": "display_data",
       "text": [
        "[1,4,9,16,25,36,49,64,81,100]"
       ]
      },
      {
       "metadata": {},
       "output_type": "display_data",
       "text": [
        "[4,16,36,64,100]"
       ]
      },
      {
       "metadata": {},
       "output_type": "display_data",
       "text": [
        "[1,9,5,7,9]"
       ]
      }
     ],
     "prompt_number": 5
    },
    {
     "cell_type": "code",
     "collapsed": false,
     "input": [
      "ll  = [x*y | x <- [1..10], y <- [1..10]]\n",
      "ll' = [x*y | x <- [1..10], y <- [1..10], x /= 3, x /= 7, y /= 2]\n",
      "print ll\n",
      "print ll'"
     ],
     "language": "python",
     "metadata": {},
     "outputs": [
      {
       "metadata": {},
       "output_type": "display_data",
       "text": [
        "[1,2,3,4,5,6,7,8,9,10,2,4,6,8,10,12,14,16,18,20,3,6,9,12,15,18,21,24,27,30,4,8,12,16,20,24,28,32,36,40,5,10,15,20,25,30,35,40,45,50,6,12,18,24,30,36,42,48,54,60,7,14,21,28,35,42,49,56,63,70,8,16,24,32,40,48,56,64,72,80,9,18,27,36,45,54,63,72,81,90,10,20,30,40,50,60,70,80,90,100]"
       ]
      },
      {
       "metadata": {},
       "output_type": "display_data",
       "text": [
        "[1,3,4,5,6,7,8,9,10,2,6,8,10,12,14,16,18,20,4,12,16,20,24,28,32,36,40,5,15,20,25,30,35,40,45,50,6,18,24,30,36,42,48,54,60,8,24,32,40,48,56,64,72,80,9,27,36,45,54,63,72,81,90,10,30,40,50,60,70,80,90,100]"
       ]
      }
     ],
     "prompt_number": 6
    },
    {
     "cell_type": "code",
     "collapsed": false,
     "input": [
      "length' xs = sum [1 | _ <- xs]\n",
      "length' l"
     ],
     "language": "python",
     "metadata": {},
     "outputs": [
      {
       "metadata": {},
       "output_type": "display_data",
       "text": [
        "10"
       ]
      }
     ],
     "prompt_number": 7
    },
    {
     "cell_type": "markdown",
     "metadata": {
      "hidden": false
     },
     "source": [
      "## Tuples\n",
      "\n",
      "* Tuples have static length\n",
      "* Tuples can be heterogenous\n",
      "* The tuple constructor is ``(,)`` (and pals)"
     ]
    },
    {
     "cell_type": "code",
     "collapsed": false,
     "input": [
      "tp = (1,2) \n",
      "tp' = (1,'a',\"hello\")\n",
      "fst tp\n",
      "snd tp"
     ],
     "language": "python",
     "metadata": {},
     "outputs": [
      {
       "metadata": {},
       "output_type": "display_data",
       "text": [
        "1"
       ]
      },
      {
       "metadata": {},
       "output_type": "display_data",
       "text": [
        "2"
       ]
      }
     ],
     "prompt_number": 8
    },
    {
     "cell_type": "code",
     "collapsed": false,
     "input": [
      "zip [1,2,3] [11.1, 22.2]"
     ],
     "language": "python",
     "metadata": {},
     "outputs": [
      {
       "metadata": {},
       "output_type": "display_data",
       "text": [
        "[(1,11.1),(2,22.2)]"
       ]
      }
     ],
     "prompt_number": 9
    },
    {
     "cell_type": "code",
     "collapsed": false,
     "input": [
      "phyttipanna a = [(x,y) | x <- [1.0,2.0..(2*a)], y <- [1.0,2.0..(2*a)], sqrt (x^2 + y^2) <= a]\n",
      "phyttipanna 5.0"
     ],
     "language": "python",
     "metadata": {},
     "outputs": [
      {
       "metadata": {},
       "output_type": "display_data",
       "text": [
        "[(1.0,1.0),(1.0,2.0),(1.0,3.0),(1.0,4.0),(2.0,1.0),(2.0,2.0),(2.0,3.0),(2.0,4.0),(3.0,1.0),(3.0,2.0),(3.0,3.0),(3.0,4.0),(4.0,1.0),(4.0,2.0),(4.0,3.0)]"
       ]
      }
     ],
     "prompt_number": 10
    },
    {
     "cell_type": "markdown",
     "metadata": {
      "hidden": false
     },
     "source": [
      "* Constructing tuples the \"funny\" way"
     ]
    },
    {
     "cell_type": "code",
     "collapsed": false,
     "input": [
      "(,) 1 2\n",
      "(,,) 'a' \"cat\" \"sat\"\n",
      "(,,,,) 1 2 75 6 7"
     ],
     "language": "python",
     "metadata": {},
     "outputs": [
      {
       "metadata": {},
       "output_type": "display_data",
       "text": [
        "(1,2)"
       ]
      },
      {
       "metadata": {},
       "output_type": "display_data",
       "text": [
        "('a',\"cat\",\"sat\")"
       ]
      },
      {
       "metadata": {},
       "output_type": "display_data",
       "text": [
        "(1,2,75,6,7)"
       ]
      }
     ],
     "prompt_number": 11
    }
   ],
   "metadata": {}
  }
 ]
}