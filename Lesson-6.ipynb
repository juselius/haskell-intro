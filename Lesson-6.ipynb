{
 "cells": [
  {
   "cell_type": "markdown",
   "metadata": {
    "hidden": false
   },
   "source": [
    "# Lesson 6\n",
    "## Looping: maps, filters, folds and recursion\n",
    "* Since Haskell is a pure functional language, we don't have variables to use as loop counters.\n",
    "* Instead we can use recursion to create loops.\n",
    "* Fortunately, we seldom have to recurse explicitly:\n",
    "* ``map``, ``filter`` and ``fold`` are easier than recursion and clearer than loops"
   ]
  },
  {
   "cell_type": "markdown",
   "metadata": {
    "hidden": false
   },
   "source": [
    "### map\n",
    "Apply a function to *all* elements of a list, and return a new list:"
   ]
  },
  {
   "cell_type": "code",
   "execution_count": null,
   "metadata": {
    "collapsed": false,
    "hidden": false
   },
   "outputs": [],
   "source": [
    "map (*2) [1..10]\n",
    "map (\\x -> if odd x then 2 * x else 2 * (x + 1))"
   ]
  },
  {
   "cell_type": "markdown",
   "metadata": {
    "hidden": false
   },
   "source": [
    "### filter\n",
    "Apply a predicate to a list and return a list with the elements for wich the predicate holds *true*:"
   ]
  },
  {
   "cell_type": "code",
   "execution_count": null,
   "metadata": {
    "collapsed": false,
    "hidden": false
   },
   "outputs": [],
   "source": [
    "filter odd [1..10]"
   ]
  },
  {
   "cell_type": "code",
   "execution_count": null,
   "metadata": {
    "collapsed": false,
    "hidden": false
   },
   "outputs": [],
   "source": [
    "filter (\\x -> x `mod` 3 == 1) [1..10]"
   ]
  },
  {
   "cell_type": "markdown",
   "metadata": {
    "hidden": false
   },
   "source": [
    "### fold\n",
    "Apply a function to the elements of a list and accumulate.\n",
    "\n",
    "* folds are more general than filter and map, and hence more complicated\n",
    "* folds come in two variants: left folds ``foldl`` and right folds ``foldr``\n",
    "    * ``foldl``: ((((1 `f` 2) `f` 3) `f` 4) `f` 5)\n",
    "    * ``foldr``: 1 `f` (2 `f` (3 `f` (4 `f` 5))))\n",
    "    * foldl is more common than foldr\n",
    "    * Use foldr to build lists\n",
    "    * foldr is primitive recursive (foldl can be written in terms of foldr, but it hurts your head)\n",
    "    * foldl suffers easily from *space leaks* and the strict ``foldl'`` is mostly used in practice\n",
    "    * (understanding the space-time behavior of folds is a bit complicated, and depends on wheather ``f`` is strict or lazy)"
   ]
  },
  {
   "cell_type": "code",
   "execution_count": null,
   "metadata": {
    "collapsed": false,
    "hidden": false
   },
   "outputs": [],
   "source": [
    "thesum = foldl (+) 0\n",
    "thesum [1..10]\n",
    "\n",
    "oddsum = foldl (\\acc x -> if odd x then acc + x else x) 0\n",
    "oddsum [1..10]\n",
    "\n",
    "sumlist = foldr (\\x acc -> (x + sum acc):acc) []\n",
    "sumlist [1..10]"
   ]
  },
  {
   "cell_type": "markdown",
   "metadata": {
    "hidden": false
   },
   "source": [
    "## Recursion\n",
    "* General loops can be emulated by recursion and *tail call* optimized recursion\n",
    "* Tail recursion is equivalent of normal looping, i.e. it is efficient both performance wise and memory wise (it doesn't grow on the stack)"
   ]
  },
  {
   "cell_type": "markdown",
   "metadata": {},
   "source": [
    "#### Factorial (tail call optimized)"
   ]
  },
  {
   "cell_type": "code",
   "execution_count": null,
   "metadata": {
    "collapsed": false
   },
   "outputs": [],
   "source": [
    "fac 1 = 1\n",
    "fac k = k * fac (k-1)\n",
    "\n",
    "fac' 0 x = x \n",
    "fac' n x = fac' (n - 1) (n * x)\n",
    "\n",
    "fac 100\n",
    "fac' 100 0"
   ]
  },
  {
   "cell_type": "markdown",
   "metadata": {},
   "source": [
    "#### Lenght of a list (tail call optimized)"
   ]
  },
  {
   "cell_type": "code",
   "execution_count": null,
   "metadata": {
    "collapsed": false
   },
   "outputs": [],
   "source": [
    "len x = len' x 0\n",
    "len' [] n = n\n",
    "len' (x:xs) n = len' xs (n + 1)\n",
    "\n",
    "len [1..10]"
   ]
  }
 ],
 "metadata": {
  "kernelspec": {
   "display_name": "Haskell",
   "language": "haskell",
   "name": "haskell"
  },
  "language_info": {
   "name": "haskell",
   "version": "7.8.4"
  }
 },
 "nbformat": 4,
 "nbformat_minor": 0
}
