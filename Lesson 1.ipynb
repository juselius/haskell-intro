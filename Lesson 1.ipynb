{
 "metadata": {
  "language": "haskell",
  "name": "",
  "signature": "sha256:8f297a567169cabfb9e42f7f6c76e67f34492baf46ceaf38ae1e9db3b8157f2a"
 },
 "nbformat": 3,
 "nbformat_minor": 0,
 "worksheets": [
  {
   "cells": [
    {
     "cell_type": "markdown",
     "metadata": {
      "hidden": false
     },
     "source": [
      "# Lesson 1\n",
      "\n",
      "## Functional programming\n",
      "\n",
      "* Functional programming dates back to 1930:s, and the work on Lambda calculus by Alonzo Church\n",
      "* Functional progamming is experiencing a second coming:\n",
      "    * Reduced code complexity\n",
      "    * Reduced number of bugs\n",
      "    * Increased code flexibility\n",
      "* Key concepts in functional programming are:\n",
      "    * Pure functions\n",
      "    * Immutable data\n",
      "    * Functions are first class, function == data\n",
      "    * Composition of functions\n",
      "    * Composition of data\n",
      "\n",
      "## Haskell\n",
      "\n",
      "* Haskell:\n",
      "    * Is a purely functional language\n",
      "    * Is statically typed\n",
      "    * Has a powerful type system, with type interference\n",
      "    * Is lazy\n",
      "    * Has confined IO \n",
      "    * Is elegant can concise\n",
      "    * Is fun!\n",
      "\n",
      "### Ecosystem\n",
      "\n",
      "* ghc: compiler\n",
      "* ghci: REPL (Read-Eval-Print-Loop)\n",
      "* runhaskell: scripting\n",
      "* cabal: package manager and build system\n",
      "* haddock: documentation\n",
      "* hackage: package repository\n",
      "* hoogle: search engine\n",
      "* hlint: syntax checking\n",
      "\n",
      "### Running Haskell\n",
      "\n",
      "* ``ghci`` and ``IHaskell notebook``:\n",
      "    * REPL: {expr} -> print result\n",
      "    * ``:l file.hs`` -> load external Haskell source file\n",
      "* ``runhaskell file.hs``: run Haskell source file like a script\n",
      "    * (also: ``#!/usr/bin/env runhaskell``)\n",
      "* ``ghc --make file.hs -o foo.bin``: compile Haskell source file to binary"
     ]
    },
    {
     "cell_type": "markdown",
     "metadata": {
      "hidden": false
     },
     "source": [
      "## Basic Haskell syntax"
     ]
    },
    {
     "cell_type": "code",
     "collapsed": false,
     "input": [
      ":option no-lint"
     ],
     "language": "python",
     "metadata": {},
     "outputs": []
    },
    {
     "cell_type": "markdown",
     "metadata": {
      "hidden": false
     },
     "source": [
      "### Simple expressions"
     ]
    },
    {
     "cell_type": "code",
     "collapsed": true,
     "input": [
      "1 + 1\n",
      "1 - 2.0\n",
      "2 / 3\n",
      "(10 + 5.5) / (2 * 3)"
     ],
     "language": "python",
     "metadata": {},
     "outputs": []
    },
    {
     "cell_type": "markdown",
     "metadata": {
      "hidden": false
     },
     "source": [
      "### Booleans"
     ]
    },
    {
     "cell_type": "code",
     "collapsed": true,
     "input": [
      "True == False\n",
      "True /= False\n",
      "not (True && True) || True\n",
      "\"foo\" == \"bar\""
     ],
     "language": "python",
     "metadata": {},
     "outputs": []
    },
    {
     "cell_type": "markdown",
     "metadata": {
      "hidden": false
     },
     "source": [
      "### Function calls\n",
      "* Function calls are without parenthesis"
     ]
    },
    {
     "cell_type": "code",
     "collapsed": false,
     "input": [
      "min 1 2\n",
      "max 1 2\n",
      "succ 'a'\n",
      "pred 1"
     ],
     "language": "python",
     "metadata": {},
     "outputs": []
    },
    {
     "cell_type": "markdown",
     "metadata": {
      "hidden": false
     },
     "source": [
      "#### Operators\n",
      "* Binary functions can be used as infix operators\n",
      "* Operators are automatically infix, but can be used as prefix functions too"
     ]
    },
    {
     "cell_type": "code",
     "collapsed": false,
     "input": [
      "1 `min` 2\n",
      "42 `div` 21\n",
      "(+) 1 2"
     ],
     "language": "python",
     "metadata": {},
     "outputs": []
    },
    {
     "cell_type": "markdown",
     "metadata": {
      "hidden": false
     },
     "source": [
      "### Constant definition\n",
      "* Constant identifiers **must** start with a lower case letter\n",
      "* Definitions may contain ':s"
     ]
    },
    {
     "cell_type": "code",
     "collapsed": false,
     "input": [
      "a  = 42\n",
      "a' = 42.0\n",
      "o'Toole = \"Actor\""
     ],
     "language": "python",
     "metadata": {},
     "outputs": []
    },
    {
     "cell_type": "markdown",
     "metadata": {
      "hidden": false
     },
     "source": [
      "## Function definition\n",
      "* Function definitions without parenthesis\n",
      "* Function names **must** start with a lower case letter (except operators)\n",
      "* Pure functions take parameters as input and return a result (no explicit return)"
     ]
    },
    {
     "cell_type": "code",
     "collapsed": false,
     "input": [
      "add x y = x + y\n",
      "add a a'\n",
      "a + 2 `add` a\n",
      "(+/) x y = (x + y) / y\n",
      "a +/ a'\n"
     ],
     "language": "python",
     "metadata": {},
     "outputs": []
    },
    {
     "cell_type": "markdown",
     "metadata": {
      "hidden": false
     },
     "source": [
      "### Lambda functions\n",
      "* Lambda functions are \"anonymous\" functions, and they are fundamental to functional programming\n",
      "* Lambda functions can be bound to a name, thus creating a \"normal\" function"
     ]
    },
    {
     "cell_type": "code",
     "collapsed": false,
     "input": [
      "addA = \\x -> x + a"
     ],
     "language": "python",
     "metadata": {},
     "outputs": []
    },
    {
     "cell_type": "markdown",
     "metadata": {
      "hidden": false
     },
     "source": [
      "### Local definitions\n",
      "* Using ``where`` and ``let`` we can make define constants and functions in the local scope\n",
      "* Prefer ``where`` over ``let``\n",
      "* Order is not important"
     ]
    },
    {
     "cell_type": "code",
     "collapsed": false,
     "input": [
      "myFunc a = \n",
      "    a + b\n",
      "    where\n",
      "        b = a^2 + 1\n",
      "\n",
      "myFunc' a = \n",
      "    let b = b' + 1 \n",
      "        b' = a^2 \n",
      "    in a + b\n",
      "\n",
      "myFunc 2\n",
      "myFunc' 2"
     ],
     "language": "python",
     "metadata": {},
     "outputs": []
    },
    {
     "cell_type": "markdown",
     "metadata": {
      "hidden": false
     },
     "source": [
      "## Conditionals\n",
      "### if\n",
      "* ``if`` is **always** followed by ``else``"
     ]
    },
    {
     "cell_type": "code",
     "collapsed": false,
     "input": [
      "abs' x = \n",
      "    if x > 0\n",
      "        then x\n",
      "        else abs x\n",
      "\n",
      "abs' 1\n",
      "abs' (-1)"
     ],
     "language": "python",
     "metadata": {},
     "outputs": []
    },
    {
     "cell_type": "markdown",
     "metadata": {
      "hidden": false
     },
     "source": [
      "### case\n",
      "* ``case`` expressions are better than nested ``if - then - else`` "
     ]
    },
    {
     "cell_type": "code",
     "collapsed": false,
     "input": [
      "hello a = case a of\n",
      "    \"hw\" -> \"Hello world\"\n",
      "    \"HW\" -> \"HELLO WORLD!\"\n",
      "    \"sl\" -> \"Sing song, so long.\"\n",
      "    _    -> \"Que?\"\n",
      "\n",
      "hello \"hw\"\n",
      "hello \"hello\""
     ],
     "language": "python",
     "metadata": {},
     "outputs": []
    },
    {
     "cell_type": "markdown",
     "metadata": {
      "hidden": false
     },
     "source": [
      "### Guards\n",
      "\n",
      "* Guards are a compact and preferred alternative to ``if`` statements\n",
      "* Guards are like ``case`` statements, but with explicit truth value testing"
     ]
    },
    {
     "cell_type": "code",
     "collapsed": false,
     "input": [
      "bmi weight height  \n",
      "    | weight / height ^ 2 <= 18.5 = \"You're underweight, you emo!\"  \n",
      "    | weight / height ^ 2 <= 25.0 = \"You're supposedly normal.\"  \n",
      "    | weight / height ^ 2 <= 30.0 = \"You're a heavy weight champion!\"  \n",
      "    | otherwise                   = \"You're a whale, congratulations!\"  \n",
      "    \n",
      "bmi' weight height  \n",
      "    | idx <= skinny = \"You're underweight, you emo!\"  \n",
      "    | idx <= normal = \"You're supposedly normal.\"  \n",
      "    | idx <= heavy  = \"You're a heavy weight champion!\"  \n",
      "    | otherwise     = \"You're a whale, congratulations!\"\n",
      "    where \n",
      "        idx = weight / height ^ 2\n",
      "        skinny = 18.5\n",
      "        normal = 25.0\n",
      "        heavy  = 30.0\n",
      "\n",
      "bmi' 93.0 1.85"
     ],
     "language": "python",
     "metadata": {},
     "outputs": []
    },
    {
     "cell_type": "markdown",
     "metadata": {
      "hidden": false
     },
     "source": [
      "## Indentation\n",
      "* Haskell relies on indentation to define block structure\n",
      "* The indentation rules are somewhat complicated, but pretty simple in practice\n",
      "* Code which is part of some expression should be indented further in than the beginning of that expression\n",
      "* Or: indentation marks the continuation of an expression\n",
      "* We also indent:\n",
      "    * Multiline functions\n",
      "    * After ``do, let, where, of``\n",
      "    * Stylistically after ``if, in``"
     ]
    },
    {
     "cell_type": "markdown",
     "metadata": {
      "hidden": false
     },
     "source": [
      "## Comments\n",
      "\n",
      "* Line comments: ``--``\n",
      "* Block comments: ``{- ... -}``\n",
      "* Haddock comments: ``--| ``"
     ]
    },
    {
     "cell_type": "code",
     "collapsed": false,
     "input": [],
     "language": "python",
     "metadata": {},
     "outputs": []
    }
   ],
   "metadata": {}
  }
 ]
}