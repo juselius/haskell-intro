{
 "metadata": {
  "language": "haskell",
  "name": "",
  "signature": "sha256:ab71a639dbc1813556d787a6d43823eed4fe048ab6d7c7ef1e383454700bf810"
 },
 "nbformat": 3,
 "nbformat_minor": 0,
 "worksheets": [
  {
   "cells": [
    {
     "cell_type": "markdown",
     "metadata": {
      "hidden": false
     },
     "source": [
      "# Lesson 5"
     ]
    },
    {
     "cell_type": "markdown",
     "metadata": {
      "hidden": false
     },
     "source": [
      "## Higher-order functions"
     ]
    },
    {
     "cell_type": "code",
     "collapsed": true,
     "input": [
      ":option no-lint"
     ],
     "language": "python",
     "metadata": {},
     "outputs": []
    },
    {
     "cell_type": "markdown",
     "metadata": {
      "hidden": false
     },
     "source": [
      "### Currying\n",
      "* Currying is also called partial function application\n",
      "* Currying is the act of calling a function with fewer arguments than the arity of the function\n",
      "* The result of partially applying a function is:\n",
      "    * A new function\n",
      "    * Closure"
     ]
    },
    {
     "cell_type": "code",
     "collapsed": false,
     "input": [
      "madd3 :: Int -> Int -> Int -> Int\n",
      "madd3 x y z = x * 3 + y * 2 + z\n",
      "madd3 11 4 1\n",
      "\n",
      "madd2 = madd3 11\n",
      "madd2 4 1\n",
      "\n",
      "madd1 = madd3 11 4\n",
      "madd1 1\n",
      "\n",
      "madd1' = madd2 4\n",
      "madd1' 1\n",
      "\n",
      ":t madd3\n",
      ":t madd2\n",
      ":t madd1\n",
      ":t madd1'\n"
     ],
     "language": "python",
     "metadata": {},
     "outputs": []
    },
    {
     "cell_type": "markdown",
     "metadata": {
      "hidden": false
     },
     "source": [
      "### Functions as arguments\n",
      "* Functions can be passed as arguments to functions"
     ]
    },
    {
     "cell_type": "code",
     "collapsed": false,
     "input": [
      "twice :: (a -> a) -> a -> a\n",
      "twice f x = f (f x)\n",
      "\n",
      "twice (+1) 2\n",
      "twice (\\x -> x^2-1) 4\n",
      "\n",
      "cube :: (a -> a -> a) -> a -> a\n",
      "cube f x = f x (f x x)\n",
      "\n",
      "cube (*) 2"
     ],
     "language": "python",
     "metadata": {},
     "outputs": []
    },
    {
     "cell_type": "markdown",
     "metadata": {
      "hidden": false
     },
     "source": [
      "### Function as return values\n",
      "* Functions can return functions"
     ]
    },
    {
     "cell_type": "code",
     "collapsed": false,
     "input": [
      "fret :: Int -> (Float -> Float)\n",
      "fret x = \\y -> fromIntegral x * y\n",
      "\n",
      "g = fret 21 \n",
      "g 2.0\n",
      ":t g"
     ],
     "language": "python",
     "metadata": {},
     "outputs": []
    },
    {
     "cell_type": "markdown",
     "metadata": {
      "hidden": false
     },
     "source": [
      "### Function transformations\n",
      "* i.e functions taking functions and returning functions"
     ]
    },
    {
     "cell_type": "code",
     "collapsed": false,
     "input": [
      "fInt2Float :: (Int -> Int) -> (Float -> Float)\n",
      "fInt2Float f = \\x -> fromIntegral (f (round x :: Int))\n",
      "\n",
      "f :: Int -> Int \n",
      "f x = 2*x\n",
      "\n",
      "g = fInt2Float f\n",
      ":t g"
     ],
     "language": "python",
     "metadata": {
      "hidden": false
     },
     "outputs": []
    },
    {
     "cell_type": "markdown",
     "metadata": {
      "hidden": false
     },
     "source": [
      "### ETA reduction\n",
      "* Haskell functions can often be simplified in an algebraic manner:\n",
      "    * ``(\\x -> abs x) == abs``\n",
      "    * ``(f x = abs x) == f = abs``"
     ]
    },
    {
     "cell_type": "markdown",
     "metadata": {
      "hidden": false
     },
     "source": [
      "## Function composition\n",
      "* Function composition is a powerfult technique for building complexity from simpler units\n",
      "* Function composition is common in many languages:\n",
      "\n",
      "    print(sin(exp(x)))\n",
      "    $ cat data | sed 's/hello/world/' | sort | uniq | head \n",
      "\n",
      "* Function compostion clean, since Haskell doesn't use parenthesis\n",
      "* Function composition is expressed using the ``(.)`` operator\n",
      "* A useful aide when doing composition is the *function application* operator ``($)``\n",
      "    * An useful mnemonic for ``$`` is *parenthesis for here to end of the statement*"
     ]
    },
    {
     "cell_type": "code",
     "collapsed": false,
     "input": [
      "f    x = negate (abs x)\n",
      "f'   x = (negate . abs) x\n",
      "f''  x = negate . abs $ x\n",
      "f''' x = negate . abs"
     ],
     "language": "python",
     "metadata": {
      "hidden": false
     },
     "outputs": []
    },
    {
     "cell_type": "markdown",
     "metadata": {
      "hidden": false
     },
     "source": [
      "#### Composition combinators\n",
      "* Combinators are functions which combine functions (in some way) to procuce new functions\n",
      "* Combinators are a very powerful techique and are much used, in particular in embedded domain specific languages (EDSLs)"
     ]
    },
    {
     "cell_type": "code",
     "collapsed": false,
     "input": [
      "(.) :: (b -> c) -> (a -> b) -> a -> c\n",
      "(.) f g = \\x -> f (g x)\n",
      "\n",
      "infixr 0 $\n",
      "($) :: (a -> b) -> a -> b\n",
      "f $ x = f x"
     ],
     "language": "python",
     "metadata": {
      "hidden": false
     },
     "outputs": []
    },
    {
     "cell_type": "markdown",
     "metadata": {
      "hidden": false
     },
     "source": [
      "## Example: reducing repetition"
     ]
    },
    {
     "cell_type": "code",
     "collapsed": false,
     "input": [
      "poem = unlines [\n",
      "      \"There was a young lady named Bright\"\n",
      "    , \"Whose speed was far faster than light;\"\n",
      "    , \"She set out one day\"\n",
      "    , \"In a relative way\"\n",
      "    , \"And returned on the previous night.\"\n",
      "    ]\n",
      "putStrLn poem"
     ],
     "language": "python",
     "metadata": {
      "hidden": false
     },
     "outputs": []
    },
    {
     "cell_type": "markdown",
     "metadata": {
      "hidden": false
     },
     "source": [
      "#### Composition"
     ]
    },
    {
     "cell_type": "code",
     "collapsed": false,
     "input": [
      "import Data.List (sort)\n",
      "\n",
      "process  t = unlines (sort (lines t))\n",
      "process' t = (unlines . sort . lines) t\n",
      "process''  = unlines . sort . lines\n",
      "\n",
      "putStrLn . process'' $ poem"
     ],
     "language": "python",
     "metadata": {
      "hidden": false
     },
     "outputs": []
    },
    {
     "cell_type": "markdown",
     "metadata": {
      "hidden": false
     },
     "source": [
      "#### Removing repetition"
     ]
    },
    {
     "cell_type": "code",
     "collapsed": false,
     "input": [
      "sortLines     = unlines . sort . lines\n",
      "reverseLines  = unlines . reverse . lines\n",
      "firstTwoLines = unlines . take 2 . lines\n",
      "\n",
      "byLines f = unlines . f . lines\n",
      "\n",
      "sortLines'     = byLines sort\n",
      "reverseLines'  = byLines reverse\n",
      "firstTwoLines' = byLines (take 2)\n",
      "\n",
      "sortLines' poem\n",
      "reverseLines' poem\n",
      "firstTwoLines' poem"
     ],
     "language": "python",
     "metadata": {
      "hidden": false
     },
     "outputs": []
    }
   ],
   "metadata": {}
  }
 ]
}