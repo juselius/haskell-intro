{
 "cells": [
  {
   "cell_type": "markdown",
   "metadata": {
    "hidden": false
   },
   "source": [
    "# Lesson 5"
   ]
  },
  {
   "cell_type": "markdown",
   "metadata": {
    "hidden": false
   },
   "source": [
    "## Higher-order functions"
   ]
  },
  {
   "cell_type": "code",
   "execution_count": null,
   "metadata": {
    "collapsed": true
   },
   "outputs": [],
   "source": [
    ":option no-lint"
   ]
  },
  {
   "cell_type": "markdown",
   "metadata": {
    "hidden": false
   },
   "source": [
    "### Currying\n",
    "* Currying is also called *partial function application*\n",
    "* Currying is the act of calling a function with \n",
    "fewer arguments than the *arity* of the function\n",
    "* The result of partially applying a function is:\n",
    "    * A new function\n",
    "    * Closure (storing free variables as parametric values inside a function)"
   ]
  },
  {
   "cell_type": "code",
   "execution_count": null,
   "metadata": {
    "collapsed": false
   },
   "outputs": [],
   "source": [
    "madd3 :: Int -> Int -> Int -> Int\n",
    "madd3 x y z = x * 3 + y * 2 + z\n",
    "madd3 11 4 1\n",
    "\n",
    "madd2 = madd3 11\n",
    "madd2 4 1\n",
    "\n",
    "madd1 = madd3 11 4\n",
    "madd1 1\n",
    "\n",
    "madd1' = madd2 4\n",
    "madd1' 1\n",
    "\n",
    ":t madd3\n",
    ":t madd2\n",
    ":t madd1\n",
    ":t madd1'\n"
   ]
  },
  {
   "cell_type": "markdown",
   "metadata": {
    "hidden": false
   },
   "source": [
    "### Functions as function arguments\n",
    "Functions can be passed as arguments to functions:"
   ]
  },
  {
   "cell_type": "code",
   "execution_count": null,
   "metadata": {
    "collapsed": false
   },
   "outputs": [],
   "source": [
    "twice :: (a -> a) -> a -> a\n",
    "twice f x = f (f x)\n",
    "\n",
    "twice (+1) 2\n",
    "twice (\\x -> x^2-1) 4\n",
    "\n",
    "cube :: (a -> a -> a) -> a -> a\n",
    "cube f x = f x (f x x)\n",
    "\n",
    "cube (*) 2"
   ]
  },
  {
   "cell_type": "markdown",
   "metadata": {
    "hidden": false
   },
   "source": [
    "### Returning functions\n",
    "Functions can return functions:"
   ]
  },
  {
   "cell_type": "code",
   "execution_count": null,
   "metadata": {
    "collapsed": false
   },
   "outputs": [],
   "source": [
    "fret :: Int -> (Float -> Float)\n",
    "fret x = \\y -> fromIntegral x * y\n",
    "\n",
    "g = fret 21 \n",
    "g 2.0\n",
    ":t g"
   ]
  },
  {
   "cell_type": "markdown",
   "metadata": {
    "hidden": false
   },
   "source": [
    "### Function transformations\n",
    "Functions can take functions as arguments and return  new functions:"
   ]
  },
  {
   "cell_type": "code",
   "execution_count": null,
   "metadata": {
    "collapsed": false
   },
   "outputs": [],
   "source": [
    "i2f :: (Int -> Int) -> (Float -> Float)\n",
    "i2f h = \\x -> fromIntegral (h (round x))\n",
    "\n",
    "f :: Int -> Int \n",
    "f x = 2 * x\n",
    "\n",
    "g x = (i2f f) x\n",
    ":t g"
   ]
  },
  {
   "cell_type": "markdown",
   "metadata": {
    "hidden": false
   },
   "source": [
    "### ETA reduction\n",
    "* Haskell functions can often be simplified in an algebraic manner:\n",
    "    * ``(\\x -> abs x) == abs``\n",
    "    * ``(f x = abs x) == f = abs``"
   ]
  },
  {
   "cell_type": "code",
   "execution_count": null,
   "metadata": {
    "collapsed": false
   },
   "outputs": [],
   "source": [
    "f :: Int -> Int \n",
    "f = (*2)\n",
    "\n",
    "g = i2f f\n",
    ":t g"
   ]
  },
  {
   "cell_type": "markdown",
   "metadata": {
    "hidden": false
   },
   "source": [
    "\n",
    "## Function composition\n",
    "* Function composition is a powerfult technique for building complexity from simpler units\n",
    "* Function composition is common in many languages:\n",
    "```\n",
    "    print(sin(exp(x)))\n",
    "```\n",
    "```\n",
    "    $ cat data | sed 's/hello/world/' | sort | uniq | head \n",
    "```\n",
    "* Function compostion clean, since Haskell doesn't use parenthesis\n",
    "* Function composition is expressed using the ``(.)`` operator\n",
    "* A useful aide when doing composition is the *function application* operator ``($)``\n",
    "    * An useful mnemonic for ``$`` is *parenthesis until end-of-statement*"
   ]
  },
  {
   "cell_type": "code",
   "execution_count": null,
   "metadata": {
    "collapsed": false
   },
   "outputs": [],
   "source": [
    "f    x = negate (abs x)\n",
    "f'   x = (negate . abs) x\n",
    "f''  x = negate . abs $ x\n",
    "f''' x = negate . abs"
   ]
  },
  {
   "cell_type": "markdown",
   "metadata": {
    "hidden": false
   },
   "source": [
    "#### Composition combinators\n",
    "* Combinators are functions which combine functions (of some sort, in some way) to procuce new functions\n",
    "* Combinators are a very powerful techique and are much used, in particular in embedded domain specific languages (EDSLs)\n",
    "\n",
    "#### Composition and currying\n",
    "We can easily curry functions in function compostition:"
   ]
  },
  {
   "cell_type": "code",
   "execution_count": null,
   "metadata": {
    "collapsed": false
   },
   "outputs": [],
   "source": [
    "clever = \"There are two ways of constructing a software design:\\nOne way is to make it so simple that there are obviously no deficiencies\\nThe other way is to make it so complicated that there are no obvious deficiencies. -- C.A.R. Hoare\\n\\nOne of my most productive days was throwing away 1000 lines of code. -- Ken Thompson\\n\\nIt's a curious thing about our industry:\\nNot only do we not learn from our mistakes, we also don't learn from our successes. -- Keith Braithwaite\\n\\nAnd folks, let’s be honest. Sturgeon was an optimist. Way more than 90% of code is crap. -- Al Viro\"\n",
    "\n",
    "firstParagraph = unlines . takeWhile (not . null) . dropWhile null . lines\n",
    "skipParagraph = unlines . dropWhile (not . null) . dropWhile null . lines\n",
    "\n",
    "p1 = firstParagraph clever\n",
    "p2 = firstParagraph . skipParagraph $ clever\n",
    "p3 = firstParagraph . skipParagraph . skipParagraph $ clever\n",
    "\n",
    "putStrLn p1\n",
    "putStrLn p2\n",
    "putStrLn p3"
   ]
  },
  {
   "cell_type": "code",
   "execution_count": null,
   "metadata": {
    "collapsed": false
   },
   "outputs": [],
   "source": [
    "(.) :: (b -> c) -> (a -> b) -> a -> c\n",
    "(.) f g = \\x -> f (g x)\n",
    "\n",
    "infixr 0 $\n",
    "($) :: (a -> b) -> a -> b\n",
    "f $ x = f x"
   ]
  },
  {
   "cell_type": "markdown",
   "metadata": {
    "hidden": false
   },
   "source": [
    "A more advance example, including composition of a function returning a function:"
   ]
  },
  {
   "cell_type": "code",
   "execution_count": null,
   "metadata": {
    "collapsed": false,
    "hidden": false
   },
   "outputs": [],
   "source": [
    "f = g . h . (*2) . succ\n",
    "    where\n",
    "        h x y = (x + 1) * (y + 2)\n",
    "        g x = x 42\n",
    "\n",
    "print $ f 41"
   ]
  },
  {
   "cell_type": "markdown",
   "metadata": {
    "hidden": false
   },
   "source": [
    "### Using compostition to avoid repetition"
   ]
  },
  {
   "cell_type": "code",
   "execution_count": null,
   "metadata": {
    "collapsed": false
   },
   "outputs": [],
   "source": [
    "poem = unlines [\n",
    "      \"There was a young lady named Bright\"\n",
    "    , \"Whose speed was far faster than light;\"\n",
    "    , \"She set out one day\"\n",
    "    , \"In a relative way\"\n",
    "    , \"And returned on the previous night.\"\n",
    "    ]\n",
    "putStrLn poem"
   ]
  },
  {
   "cell_type": "markdown",
   "metadata": {
    "hidden": false
   },
   "source": [
    "#### Composition"
   ]
  },
  {
   "cell_type": "code",
   "execution_count": null,
   "metadata": {
    "collapsed": false
   },
   "outputs": [],
   "source": [
    "import Data.List (sort)\n",
    "\n",
    "process  t = unlines (sort (lines t))\n",
    "process' t = (unlines . sort . lines) t\n",
    "process''  = unlines . sort . lines\n",
    "\n",
    "putStrLn . process'' $ poem"
   ]
  },
  {
   "cell_type": "markdown",
   "metadata": {
    "hidden": false
   },
   "source": [
    "#### Avoiding repetition"
   ]
  },
  {
   "cell_type": "code",
   "execution_count": null,
   "metadata": {
    "collapsed": false
   },
   "outputs": [],
   "source": [
    "sortLines     = unlines . sort . lines\n",
    "reverseLines  = unlines . reverse . lines\n",
    "firstTwoLines = unlines . take 2 . lines\n",
    "\n",
    "byLines f = unlines . f . lines\n",
    "\n",
    "sortLines'     = byLines sort\n",
    "reverseLines'  = byLines reverse\n",
    "firstTwoLines' = byLines (take 2)\n",
    "\n",
    "putStrLn $ sortLines' poem\n",
    "putStrLn $ reverseLines' poem\n",
    "putStrLn $ firstTwoLines' poem"
   ]
  },
  {
   "cell_type": "code",
   "execution_count": null,
   "metadata": {
    "collapsed": false
   },
   "outputs": [],
   "source": []
  }
 ],
 "metadata": {
  "kernelspec": {
   "display_name": "Haskell",
   "language": "haskell",
   "name": "haskell"
  },
  "language_info": {
   "name": "haskell",
   "version": "7.8.4"
  }
 },
 "nbformat": 4,
 "nbformat_minor": 0
}
