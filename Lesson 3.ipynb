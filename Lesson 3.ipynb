{
 "metadata": {
  "language": "haskell",
  "name": "",
  "signature": "sha256:125d65470f571c3c2e2bfeb9e2378c315a09681f10d86787f78c56d5bdd50373"
 },
 "nbformat": 3,
 "nbformat_minor": 0,
 "worksheets": [
  {
   "cells": [
    {
     "cell_type": "markdown",
     "metadata": {
      "hidden": false
     },
     "source": [
      "# Lesson 3\n",
      "\n",
      "## Pattern matching\n",
      "\n",
      "* In pattern matching we attempt to match values against patterns\n",
      "* If desired, we can bind variables to successful matches\n",
      "* Pattern matching is a very important and common feature in Haskell\n",
      "* We will see a lot of uses of pattern matching during the course:\n",
      "    * Values\n",
      "    * Lists\n",
      "    * Tuples\n",
      "    * Records\n",
      "* Pattern matching can be used wherever you bind variables:\n",
      "    * Function arguments\n",
      "    * ``let`` statements\n",
      "    * ``where`` statements\n",
      "    * List comprehensions\n",
      "    * ``do`` blocks"
     ]
    },
    {
     "cell_type": "code",
     "collapsed": true,
     "input": [
      ":option no-lint"
     ],
     "language": "python",
     "metadata": {
      "hidden": false
     },
     "outputs": [],
     "prompt_number": 2
    },
    {
     "cell_type": "markdown",
     "metadata": {
      "hidden": false
     },
     "source": [
      "### Matching function argument values"
     ]
    },
    {
     "cell_type": "code",
     "collapsed": false,
     "input": [
      "f x = case x of\n",
      "    0 -> False\n",
      "    1 -> True\n",
      "    _ -> False\n",
      "\n",
      "\n",
      "f' 0 = False\n",
      "f' 1 = True\n",
      "f' _ = False"
     ],
     "language": "python",
     "metadata": {
      "hidden": false
     },
     "outputs": [
      {
       "metadata": {},
       "output_type": "display_data",
       "text": [
        "True"
       ]
      },
      {
       "metadata": {},
       "output_type": "display_data",
       "text": [
        "True"
       ]
      }
     ],
     "prompt_number": 12
    },
    {
     "cell_type": "markdown",
     "metadata": {
      "hidden": false
     },
     "source": [
      "### Matching tuples and binding variables"
     ]
    },
    {
     "cell_type": "code",
     "collapsed": false,
     "input": [
      "g (_, 1) = 42\n",
      "g (a, b) = a + b\n",
      "g x = fst x + snd x\n",
      "\n",
      "g (111, 1)\n",
      "g (1,2)\n",
      "\n",
      "g' x = let (_,_,c,_)  = x \n",
      "    in c\n",
      "    \n",
      "g' (11,22,33,44)"
     ],
     "language": "python",
     "metadata": {
      "hidden": false
     },
     "outputs": [
      {
       "metadata": {},
       "output_type": "display_data",
       "text": [
        "42"
       ]
      },
      {
       "metadata": {},
       "output_type": "display_data",
       "text": [
        "3"
       ]
      },
      {
       "metadata": {},
       "output_type": "display_data",
       "text": [
        "33"
       ]
      }
     ],
     "prompt_number": 42
    },
    {
     "cell_type": "markdown",
     "metadata": {
      "hidden": false
     },
     "source": [
      "### Matching lists"
     ]
    },
    {
     "cell_type": "code",
     "collapsed": false,
     "input": [
      "g :: [Int] -> Int\n",
      "g [] = 0\n",
      "g [1] = 42\n",
      "g [1,2] = 43\n",
      "g (x:y:z:[]) = x + y + z\n",
      "g (x:y:xs) = sum xs\n",
      "g x = sum x\n",
      "\n",
      "g []\n",
      "g [1]\n",
      "g [1,2]\n",
      "g [1,2,3]\n",
      "g [1,2,3,4]"
     ],
     "language": "python",
     "metadata": {
      "hidden": false
     },
     "outputs": [
      {
       "metadata": {},
       "output_type": "display_data",
       "text": [
        "0"
       ]
      },
      {
       "metadata": {},
       "output_type": "display_data",
       "text": [
        "42"
       ]
      },
      {
       "metadata": {},
       "output_type": "display_data",
       "text": [
        "43"
       ]
      },
      {
       "metadata": {},
       "output_type": "display_data",
       "text": [
        "6"
       ]
      },
      {
       "metadata": {},
       "output_type": "display_data",
       "text": [
        "7"
       ]
      }
     ],
     "prompt_number": 37
    }
   ],
   "metadata": {}
  }
 ]
}