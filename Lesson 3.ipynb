{
 "metadata": {
  "language": "haskell",
  "name": "",
  "signature": "sha256:bb4e9d4691362d5ec8520affd4fe7beaefad00fc25158e1c351d30829b4bebce"
 },
 "nbformat": 3,
 "nbformat_minor": 0,
 "worksheets": [
  {
   "cells": [
    {
     "cell_type": "markdown",
     "metadata": {
      "hidden": false
     },
     "source": [
      "# Lesson 3\n",
      "\n",
      "## Pattern matching\n",
      "\n",
      "* In pattern matching we attempt to match values against patterns\n",
      "* If desired, we can bind variables to successful matches\n",
      "* Pattern matching is a very important and common feature in Haskell\n",
      "* We will see a lot of uses of pattern matching during the course:\n",
      "    * Values\n",
      "    * Lists\n",
      "    * Tuples\n",
      "    * Records\n",
      "* Pattern matching can be used wherever you bind variables:\n",
      "    * Function arguments\n",
      "    * ``let`` statements\n",
      "    * ``where`` statements\n",
      "    * List comprehensions\n",
      "    * ``do`` blocks"
     ]
    },
    {
     "cell_type": "code",
     "collapsed": true,
     "input": [
      ":option no-lint"
     ],
     "language": "python",
     "metadata": {},
     "outputs": []
    },
    {
     "cell_type": "markdown",
     "metadata": {
      "hidden": false
     },
     "source": [
      "### Matching function argument values"
     ]
    },
    {
     "cell_type": "code",
     "collapsed": false,
     "input": [
      "f x = case x of\n",
      "    0 -> False\n",
      "    1 -> True\n",
      "    _ -> False\n",
      "\n",
      "\n",
      "f' 0 = False\n",
      "f' 1 = True\n",
      "f' _ = False"
     ],
     "language": "python",
     "metadata": {},
     "outputs": []
    },
    {
     "cell_type": "markdown",
     "metadata": {
      "hidden": false
     },
     "source": [
      "### Matching tuples and binding variables"
     ]
    },
    {
     "cell_type": "code",
     "collapsed": false,
     "input": [
      "g (_, 1) = 42\n",
      "g (a, b) = a + b\n",
      "g x = fst x + snd x\n",
      "\n",
      "g (111, 1)\n",
      "g (1,2)\n",
      "\n",
      "g' x = let (_,_,c,_)  = x \n",
      "    in c\n",
      "    \n",
      "g' (11,22,33,44)"
     ],
     "language": "python",
     "metadata": {},
     "outputs": []
    },
    {
     "cell_type": "markdown",
     "metadata": {
      "hidden": false
     },
     "source": [
      "### Matching lists"
     ]
    },
    {
     "cell_type": "code",
     "collapsed": false,
     "input": [
      "g :: [Int] -> Int\n",
      "g [] = 0\n",
      "g [1] = 42\n",
      "g [1,2] = 43\n",
      "g (x:y:z:[]) = x + y + z\n",
      "g (x:y:xs) = sum xs\n",
      "g x = sum x\n",
      "\n",
      "g []\n",
      "g [1]\n",
      "g [1,2]\n",
      "g [1,2,3]\n",
      "g [1,2,3,4]"
     ],
     "language": "python",
     "metadata": {},
     "outputs": []
    }
   ],
   "metadata": {}
  }
 ]
}